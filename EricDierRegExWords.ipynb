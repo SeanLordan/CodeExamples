{
 "cells": [
  {
   "cell_type": "code",
   "execution_count": 84,
   "metadata": {},
   "outputs": [],
   "source": [
    "from nltk.tokenize import RegexpTokenizer\n",
    "from nltk.stem.porter import PorterStemmer\n",
    "from nltk.corpus import stopwords\n",
    "from nltk.stem import WordNetLemmatizer\n",
    "from gensim import corpora, models\n",
    "import re\n",
    "import gensim\n",
    "from pprint import pprint"
   ]
  },
  {
   "cell_type": "code",
   "execution_count": 85,
   "metadata": {},
   "outputs": [],
   "source": [
    "Dier = 'Eric Dier’s spot-kick gave England their first-ever win on penalties at a World Cup at the fourth attempt, ending the jinx that has dogged them for so long.'"
   ]
  },
  {
   "cell_type": "code",
   "execution_count": 86,
   "metadata": {},
   "outputs": [],
   "source": [
    "Dier1 = 'ERIC DIER might have balls of steel to rifle home a winning England shoot-out penalty, but totally missed the celebration bundle with mis-timed dive.'"
   ]
  },
  {
   "cell_type": "code",
   "execution_count": 87,
   "metadata": {},
   "outputs": [],
   "source": [
    "Dier2 = 'Dier admitted he was nervous from 12-yards after he sent a free header wide that would have put Gareth Southgate’s side 2-0 up.'"
   ]
  },
  {
   "cell_type": "code",
   "execution_count": 88,
   "metadata": {},
   "outputs": [],
   "source": [
    "Dier3 = '\"While you wait to take it, you are nervous. But once I was out, I was quite calm,\" Dier, who scored the decisive goal of his team’s game against the Colombian squad, said.'"
   ]
  },
  {
   "cell_type": "code",
   "execution_count": 89,
   "metadata": {},
   "outputs": [],
   "source": [
    "Dier4 = 'Eric Dier proved the doubters wrong by sticking away his penalty kick to send England through to the World Cup quarter finals.'"
   ]
  },
  {
   "cell_type": "code",
   "execution_count": 90,
   "metadata": {},
   "outputs": [],
   "source": [
    "Diers = [Dier, Dier1, Dier2, Dier3, Dier4]"
   ]
  },
  {
   "cell_type": "code",
   "execution_count": 91,
   "metadata": {},
   "outputs": [],
   "source": [
    "tokenizer = RegexpTokenizer(r'\\w+')"
   ]
  },
  {
   "cell_type": "code",
   "execution_count": 92,
   "metadata": {},
   "outputs": [],
   "source": [
    "t = []\n",
    "\n",
    "\n",
    "for d in Diers:\n",
    "    raw = re.sub('[^A-Za-z ]', '',d.lower())\n",
    "    tokens = tokenizer.tokenize(raw)\n",
    "    tokens_stopped = [t for t in tokens if t not in stop]\n",
    "    tokens_clean = [lem.lemmatize(s) for s in tokens_stopped]\n",
    "    t.append(tokens_clean)"
   ]
  },
  {
   "cell_type": "code",
   "execution_count": 17,
   "metadata": {},
   "outputs": [
    {
     "data": {
      "text/plain": [
       "'Eric Dier’s spot-kick gave England their first-ever win on penalties at a World Cup at the fourth attempt, ending the jinx that has dogged them for so long.'"
      ]
     },
     "execution_count": 17,
     "metadata": {},
     "output_type": "execute_result"
    }
   ],
   "source": [
    "Dier"
   ]
  },
  {
   "cell_type": "code",
   "execution_count": 76,
   "metadata": {},
   "outputs": [
    {
     "data": {
      "text/plain": [
       "['Eric Dier’s spot-kick gave England their first-ever win on penalties at a World Cup at the fourth attempt, ending the jinx that has dogged them for so long.',\n",
       " 'ERIC DIER might have balls of steel to rifle home a winning England shoot-out penalty, but totally missed the celebration bundle with mis-timed dive.',\n",
       " 'Dier admitted he was nervous from 12-yards after he sent a free header wide that would have put Gareth Southgate’s side 2-0 up.',\n",
       " '\"While you wait to take it, you are nervous. But once I was out, I was quite calm,\" Dier, who scored the decisive goal of his team’s game against the Colombian squad, said.',\n",
       " 'Eric Dier proved the doubters wrong by sticking away his penalty kick to send England through to the World Cup quarter finals.']"
      ]
     },
     "execution_count": 76,
     "metadata": {},
     "output_type": "execute_result"
    }
   ],
   "source": [
    "Diers"
   ]
  },
  {
   "cell_type": "code",
   "execution_count": 42,
   "metadata": {},
   "outputs": [],
   "source": [
    "tokens = tokenizer.tokenize(raw)"
   ]
  },
  {
   "cell_type": "code",
   "execution_count": 43,
   "metadata": {},
   "outputs": [
    {
     "data": {
      "text/plain": [
       "['eric',\n",
       " 'dier',\n",
       " 's',\n",
       " 'spot',\n",
       " 'kick',\n",
       " 'gave',\n",
       " 'england',\n",
       " 'their',\n",
       " 'first',\n",
       " 'ever',\n",
       " 'win',\n",
       " 'on',\n",
       " 'penalties',\n",
       " 'at',\n",
       " 'a',\n",
       " 'world',\n",
       " 'cup',\n",
       " 'at',\n",
       " 'the',\n",
       " 'fourth',\n",
       " 'attempt',\n",
       " 'ending',\n",
       " 'the',\n",
       " 'jinx',\n",
       " 'that',\n",
       " 'has',\n",
       " 'dogged',\n",
       " 'them',\n",
       " 'for',\n",
       " 'so',\n",
       " 'long']"
      ]
     },
     "execution_count": 43,
     "metadata": {},
     "output_type": "execute_result"
    }
   ],
   "source": [
    "tokens"
   ]
  },
  {
   "cell_type": "code",
   "execution_count": 93,
   "metadata": {},
   "outputs": [],
   "source": [
    "stop = stopwords.words('english')"
   ]
  },
  {
   "cell_type": "code",
   "execution_count": 28,
   "metadata": {},
   "outputs": [],
   "source": [
    "tokens_stopped = [t for t in tokens if t not in stop]"
   ]
  },
  {
   "cell_type": "code",
   "execution_count": 94,
   "metadata": {},
   "outputs": [
    {
     "data": {
      "text/plain": [
       "['eric',\n",
       " 'dier',\n",
       " 'proved',\n",
       " 'doubters',\n",
       " 'wrong',\n",
       " 'sticking',\n",
       " 'away',\n",
       " 'penalty',\n",
       " 'kick',\n",
       " 'send',\n",
       " 'england',\n",
       " 'world',\n",
       " 'cup',\n",
       " 'quarter',\n",
       " 'finals']"
      ]
     },
     "execution_count": 94,
     "metadata": {},
     "output_type": "execute_result"
    }
   ],
   "source": [
    "tokens_stopped"
   ]
  },
  {
   "cell_type": "code",
   "execution_count": 31,
   "metadata": {},
   "outputs": [],
   "source": [
    "stemmer = PorterStemmer()\n"
   ]
  },
  {
   "cell_type": "code",
   "execution_count": 35,
   "metadata": {},
   "outputs": [],
   "source": [
    "\n",
    "lem= WordNetLemmatizer()"
   ]
  },
  {
   "cell_type": "code",
   "execution_count": 36,
   "metadata": {},
   "outputs": [],
   "source": [
    "tokens_clean = [lem.lemmatize(s) for s in tokens_stopped]"
   ]
  },
  {
   "cell_type": "code",
   "execution_count": 37,
   "metadata": {},
   "outputs": [
    {
     "data": {
      "text/plain": [
       "['eric',\n",
       " 'dier',\n",
       " 'spot',\n",
       " 'kick',\n",
       " 'gave',\n",
       " 'england',\n",
       " 'first',\n",
       " 'ever',\n",
       " 'win',\n",
       " 'penalty',\n",
       " 'world',\n",
       " 'cup',\n",
       " 'fourth',\n",
       " 'attempt',\n",
       " 'ending',\n",
       " 'jinx',\n",
       " 'dogged',\n",
       " 'long']"
      ]
     },
     "execution_count": 37,
     "metadata": {},
     "output_type": "execute_result"
    }
   ],
   "source": [
    "tokens_clean"
   ]
  },
  {
   "cell_type": "code",
   "execution_count": 44,
   "metadata": {},
   "outputs": [
    {
     "name": "stdout",
     "output_type": "stream",
     "text": [
      "Collecting gensim\n",
      "  Downloading https://files.pythonhosted.org/packages/eb/b5/e74d478d9e89528cc869c52a6d794f5a7dc5452585e23ad24db513636dc1/gensim-3.4.0-cp36-cp36m-win_amd64.whl (22.5MB)\n",
      "Collecting smart-open>=1.2.1 (from gensim)\n",
      "  Downloading https://files.pythonhosted.org/packages/cf/3d/5f3a9a296d0ba8e00e263a8dee76762076b9eb5ddc254ccaa834651c8d65/smart_open-1.6.0.tar.gz\n",
      "Requirement already satisfied: six>=1.5.0 in c:\\users\\student\\anaconda3\\lib\\site-packages (from gensim) (1.11.0)\n",
      "Requirement already satisfied: numpy>=1.11.3 in c:\\users\\student\\anaconda3\\lib\\site-packages (from gensim) (1.14.3)\n",
      "Requirement already satisfied: scipy>=0.18.1 in c:\\users\\student\\anaconda3\\lib\\site-packages (from gensim) (1.1.0)\n",
      "Requirement already satisfied: boto>=2.32 in c:\\users\\student\\anaconda3\\lib\\site-packages (from smart-open>=1.2.1->gensim) (2.48.0)\n",
      "Collecting bz2file (from smart-open>=1.2.1->gensim)\n",
      "  Downloading https://files.pythonhosted.org/packages/61/39/122222b5e85cd41c391b68a99ee296584b2a2d1d233e7ee32b4532384f2d/bz2file-0.98.tar.gz\n",
      "Requirement already satisfied: requests in c:\\users\\student\\anaconda3\\lib\\site-packages (from smart-open>=1.2.1->gensim) (2.18.4)\n",
      "Collecting boto3 (from smart-open>=1.2.1->gensim)\n",
      "  Downloading https://files.pythonhosted.org/packages/59/f0/22554f0fc3aafd34e189919fd6a360d440fcaa6f86dedc9aaca904c885b1/boto3-1.7.50-py2.py3-none-any.whl (128kB)\n",
      "Requirement already satisfied: chardet<3.1.0,>=3.0.2 in c:\\users\\student\\anaconda3\\lib\\site-packages (from requests->smart-open>=1.2.1->gensim) (3.0.4)\n",
      "Requirement already satisfied: idna<2.7,>=2.5 in c:\\users\\student\\anaconda3\\lib\\site-packages (from requests->smart-open>=1.2.1->gensim) (2.6)\n",
      "Requirement already satisfied: urllib3<1.23,>=1.21.1 in c:\\users\\student\\anaconda3\\lib\\site-packages (from requests->smart-open>=1.2.1->gensim) (1.22)\n",
      "Requirement already satisfied: certifi>=2017.4.17 in c:\\users\\student\\anaconda3\\lib\\site-packages (from requests->smart-open>=1.2.1->gensim) (2018.4.16)\n",
      "Collecting jmespath<1.0.0,>=0.7.1 (from boto3->smart-open>=1.2.1->gensim)\n",
      "  Downloading https://files.pythonhosted.org/packages/b7/31/05c8d001f7f87f0f07289a5fc0fc3832e9a57f2dbd4d3b0fee70e0d51365/jmespath-0.9.3-py2.py3-none-any.whl\n",
      "Collecting botocore<1.11.0,>=1.10.50 (from boto3->smart-open>=1.2.1->gensim)\n",
      "  Downloading https://files.pythonhosted.org/packages/d5/9f/2e701a365b5ff0e8b664d6c393f3c61c20e52bb5148bbc2e27d737b890db/botocore-1.10.50-py2.py3-none-any.whl (4.4MB)\n",
      "Collecting s3transfer<0.2.0,>=0.1.10 (from boto3->smart-open>=1.2.1->gensim)\n",
      "  Downloading https://files.pythonhosted.org/packages/d7/14/2a0004d487464d120c9fb85313a75cd3d71a7506955be458eebfe19a6b1d/s3transfer-0.1.13-py2.py3-none-any.whl (59kB)\n",
      "Requirement already satisfied: docutils>=0.10 in c:\\users\\student\\anaconda3\\lib\\site-packages (from botocore<1.11.0,>=1.10.50->boto3->smart-open>=1.2.1->gensim) (0.14)\n",
      "Requirement already satisfied: python-dateutil<3.0.0,>=2.1; python_version >= \"2.7\" in c:\\users\\student\\anaconda3\\lib\\site-packages (from botocore<1.11.0,>=1.10.50->boto3->smart-open>=1.2.1->gensim) (2.6.1)\n",
      "Building wheels for collected packages: smart-open, bz2file\n",
      "  Running setup.py bdist_wheel for smart-open: started\n",
      "  Running setup.py bdist_wheel for smart-open: finished with status 'done'\n",
      "  Stored in directory: C:\\Users\\Student\\AppData\\Local\\pip\\Cache\\wheels\\73\\f1\\9b\\ccf93d4ba073b6f79b1ed9df68ab5ce048d8136d0efcf90b30\n",
      "  Running setup.py bdist_wheel for bz2file: started\n",
      "  Running setup.py bdist_wheel for bz2file: finished with status 'done'\n",
      "  Stored in directory: C:\\Users\\Student\\AppData\\Local\\pip\\Cache\\wheels\\81\\75\\d6\\e1317bf09bf1af5a30befc2a007869fa6e1f516b8f7c591cb9\n",
      "Successfully built smart-open bz2file\n",
      "Installing collected packages: bz2file, jmespath, botocore, s3transfer, boto3, smart-open, gensim\n",
      "Successfully installed boto3-1.7.50 botocore-1.10.50 bz2file-0.98 gensim-3.4.0 jmespath-0.9.3 s3transfer-0.1.13 smart-open-1.6.0\n"
     ]
    },
    {
     "name": "stderr",
     "output_type": "stream",
     "text": [
      "gevent 1.3.0 has requirement cffi>=1.11.5, but you'll have cffi 1.10.0 which is incompatible.\n"
     ]
    }
   ],
   "source": [
    "!pip install gensim"
   ]
  },
  {
   "cell_type": "code",
   "execution_count": 95,
   "metadata": {},
   "outputs": [],
   "source": [
    "dictionary = corpora.Dictionary(t)"
   ]
  },
  {
   "cell_type": "code",
   "execution_count": 96,
   "metadata": {},
   "outputs": [],
   "source": [
    "corpus = [dictionary.doc2bow(doc) for doc in t]"
   ]
  },
  {
   "cell_type": "code",
   "execution_count": 97,
   "metadata": {},
   "outputs": [
    {
     "data": {
      "text/plain": [
       "[(0, 1),\n",
       " (1, 1),\n",
       " (2, 1),\n",
       " (3, 1),\n",
       " (4, 1),\n",
       " (5, 1),\n",
       " (6, 1),\n",
       " (7, 1),\n",
       " (8, 1),\n",
       " (9, 1),\n",
       " (10, 1),\n",
       " (11, 1),\n",
       " (12, 1),\n",
       " (13, 1),\n",
       " (14, 1),\n",
       " (15, 1)]"
      ]
     },
     "execution_count": 97,
     "metadata": {},
     "output_type": "execute_result"
    }
   ],
   "source": [
    "corpus[0]"
   ]
  },
  {
   "cell_type": "code",
   "execution_count": 98,
   "metadata": {},
   "outputs": [
    {
     "data": {
      "text/plain": [
       "['eric',\n",
       " 'diers',\n",
       " 'spotkick',\n",
       " 'gave',\n",
       " 'england',\n",
       " 'firstever',\n",
       " 'win',\n",
       " 'penalty',\n",
       " 'world',\n",
       " 'cup',\n",
       " 'fourth',\n",
       " 'attempt',\n",
       " 'ending',\n",
       " 'jinx',\n",
       " 'dogged',\n",
       " 'long']"
      ]
     },
     "execution_count": 98,
     "metadata": {},
     "output_type": "execute_result"
    }
   ],
   "source": [
    "t[0]"
   ]
  },
  {
   "cell_type": "code",
   "execution_count": 99,
   "metadata": {},
   "outputs": [],
   "source": [
    "ldamodel = gensim.models.ldamodel.LdaModel(corpus, num_topics=3, id2word = dictionary, passes=20)"
   ]
  },
  {
   "cell_type": "code",
   "execution_count": 103,
   "metadata": {},
   "outputs": [
    {
     "name": "stdout",
     "output_type": "stream",
     "text": [
      "[(0, '0.038*\"nervous\" + 0.038*\"game\" + 0.038*\"quite\"'), (1, '0.051*\"dier\" + 0.035*\"eric\" + 0.035*\"penalty\"'), (2, '0.036*\"world\" + 0.036*\"cup\" + 0.036*\"england\"')]\n"
     ]
    }
   ],
   "source": [
    "print(ldamodel.print_topics(num_topics=3, num_words=3))"
   ]
  },
  {
   "cell_type": "code",
   "execution_count": 1,
   "metadata": {},
   "outputs": [],
   "source": []
  },
  {
   "cell_type": "code",
   "execution_count": null,
   "metadata": {},
   "outputs": [],
   "source": []
  }
 ],
 "metadata": {
  "kernelspec": {
   "display_name": "Python 3",
   "language": "python",
   "name": "python3"
  },
  "language_info": {
   "codemirror_mode": {
    "name": "ipython",
    "version": 3
   },
   "file_extension": ".py",
   "mimetype": "text/x-python",
   "name": "python",
   "nbconvert_exporter": "python",
   "pygments_lexer": "ipython3",
   "version": "3.6.5"
  }
 },
 "nbformat": 4,
 "nbformat_minor": 2
}
