{
 "cells": [
  {
   "cell_type": "code",
   "execution_count": 75,
   "metadata": {},
   "outputs": [],
   "source": [
    "from twython import Twython\n",
    "from pprint import pprint\n",
    "import json\n",
    "import pyodbc\n",
    "import datetime\n",
    "import time\n",
    "from vaderSentiment.vaderSentiment import SentimentIntensityAnalyzer\n",
    "analyser = SentimentIntensityAnalyzer()"
   ]
  },
  {
   "cell_type": "code",
   "execution_count": 76,
   "metadata": {},
   "outputs": [],
   "source": [
    "con = pyodbc.connect('DSN=SQLADW;UID=python;PWD=password')\n",
    "cur = con.cursor()"
   ]
  },
  {
   "cell_type": "code",
   "execution_count": 77,
   "metadata": {},
   "outputs": [],
   "source": [
    "analyser = SentimentIntensityAnalyzer()"
   ]
  },
  {
   "cell_type": "code",
   "execution_count": 3,
   "metadata": {},
   "outputs": [],
   "source": [
    "consumerkey = 'HpEuf4YCr8ftUPoToxb1S6FVN'"
   ]
  },
  {
   "cell_type": "code",
   "execution_count": 4,
   "metadata": {},
   "outputs": [],
   "source": [
    "consumersecret = 'u1zT08nwfoB00bQ5dsPZK9fVjoxYNPHDNvaSH0Qk1Uj8TtZXpp'"
   ]
  },
  {
   "cell_type": "code",
   "execution_count": 5,
   "metadata": {},
   "outputs": [],
   "source": [
    "token = '1011880729289076736-52ESQsla6I5rZlznuFqTEyBPuxUbgI'"
   ]
  },
  {
   "cell_type": "code",
   "execution_count": 6,
   "metadata": {},
   "outputs": [],
   "source": [
    "tokensecret = 'qaUe5PcT1stQdCO0MvyY8ssul4cAxQmTLdI028hVzCXkd'"
   ]
  },
  {
   "cell_type": "code",
   "execution_count": 7,
   "metadata": {},
   "outputs": [],
   "source": [
    "twitter = Twython(consumerkey, consumersecret)"
   ]
  },
  {
   "cell_type": "code",
   "execution_count": 80,
   "metadata": {},
   "outputs": [
    {
     "name": "stdout",
     "output_type": "stream",
     "text": [
      "('Newbridge', 'RT @RTEgaa: Victory for @KildareGAA #RTEGAA #GAA \\nhttps://t.co/cLGttnG5ee', '2018-06-27 10:56:01', 176, 0.0)\n",
      "('Newbridge', 'They be like in #Kildare now. #KildarevsMayo goes ahead in #Newbridge 👍👏👏 https://t.co/zuxcFAQw0d', '2018-06-27 10:55:47', 117, 0.3612)\n",
      "('Newbridge', \"On holiday so won't be in Newbridge on Saturday. Having regrets. Will be electric.\", '2018-06-27 10:55:46', 13516, 0.0516)\n",
      "('Newbridge', \"RT @Woolberto: Don't think I'll go to Newbridge though with all the crowd trouble expected outside the ground. Better be safe than sorry\", '2018-06-27 10:55:38', 21, 0.4215)\n",
      "('Newbridge', 'RT @RTEgaa: Victory for @KildareGAA #RTEGAA #GAA \\nhttps://t.co/cLGttnG5ee', '2018-06-27 10:55:36', 164, 0.0)\n",
      "('Newbridge', 'RT @RTEgaa: Victory for @KildareGAA #RTEGAA #GAA \\nhttps://t.co/cLGttnG5ee', '2018-06-27 10:55:29', 276, 0.0)\n",
      "('Newbridge', '@Woolberto pope wants to cancel going to Knock now - newbridge or nowhere #gaa #hondalilies', '2018-06-27 10:55:21', 66, -0.25)\n",
      "('Newbridge', '@Woolberto A laois man will always be safe and very welcome in Newbridge.super8s  kildare v laois st conleths pk', '2018-06-27 10:55:20', 258, 0.7346)\n",
      "('Newbridge', 'A proud Day for our Great County and Commuity https://t.co/Ydy8RjibkN', '2018-06-27 10:55:11', 363, 0.802)\n",
      "('Newbridge', 'Kildare and Mayo match switched to Newbridge \\n#KildareGaa https://t.co/Csr3fYVT8b', '2018-06-27 10:55:11', 2548, 0.0)\n",
      "('Newbridge', 'RT @brianmcg13: Cian o neill on his way to Newbridge Saturday evening #Newbridgeornothing https://t.co/mTQUHmUmo2', '2018-06-27 10:55:11', 55, 0.0)\n",
      "('Newbridge', 'Bath UK Parking: Newbridge P R / A4 Newbridge Road / P R / Bath,  Filling, Free space: 127', '2018-06-27 10:55:10', 8, 0.5106)\n",
      "('Newbridge', 'The GAA will release a statement shortly, confirming the 7pm throw-in. https://t.co/KwTdmmmRjw', '2018-06-27 10:55:07', 29149, 0.0)\n",
      "('Newbridge', '@CillDaraTimes Will go watch it in a pub in Newbridge if unlucky to get a ticket. And will greet the lads coming out after 👏👏', '2018-06-27 10:55:06', 200, 0.3182)\n",
      "('Newbridge', 'RT @rtenews: Kildare-Mayo set for Newbridge at 7pm on Saturday https://t.co/stEJHhmqCM', '2018-06-27 10:55:03', 854, 0.0)\n"
     ]
    }
   ],
   "source": [
    "search_term = []\n",
    "status_text = []\n",
    "status_created_date = []\n",
    "follower_count = []\n",
    "status_sentiment = []\n",
    "\n",
    "\n",
    "for tweet in twitter.search(q='Newbridge')['statuses']:\n",
    "    searchterm = 'Newbridge' \n",
    "    statustext = tweet['text']\n",
    "    createddate = tweet['created_at']\n",
    "    followercount = tweet['user']['followers_count']\n",
    "\n",
    "  \n",
    "    search_term.append(searchterm)\n",
    "    status_text.append(statustext)\n",
    "    status_created_date.append(datetime.datetime.strptime(createddate,'%a %b %d %X +0000 %Y').strftime('%Y-%m-%d %X'))\n",
    "    follower_count.append(followercount)\n",
    "    status_sentiment.append(analyser.polarity_scores(statustext)['compound'])\n",
    "    \n",
    "z = zip(search_term, status_text, status_created_date, follower_count, status_sentiment)\n",
    "for i in z:\n",
    "    print(i)\n",
    "        \n"
   ]
  },
  {
   "cell_type": "code",
   "execution_count": 81,
   "metadata": {},
   "outputs": [],
   "source": [
    "stwt = 'insert into tweet_searches (search_term, status_text, status_created_date, follower_count, status_sentiment) values (?,?,?,?,?)'"
   ]
  },
  {
   "cell_type": "code",
   "execution_count": 82,
   "metadata": {},
   "outputs": [],
   "source": [
    "z = zip(search_term, status_text, status_created_date, follower_count, status_sentiment)\n",
    "for i in z:   \n",
    "    cur.execute(stwt, i)"
   ]
  },
  {
   "cell_type": "code",
   "execution_count": 83,
   "metadata": {},
   "outputs": [],
   "source": [
    "cur.commit()"
   ]
  },
  {
   "cell_type": "code",
   "execution_count": 31,
   "metadata": {},
   "outputs": [
    {
     "name": "stdout",
     "output_type": "stream",
     "text": [
      "{'contributors': None,\n",
      " 'coordinates': None,\n",
      " 'created_at': 'Wed Jun 27 09:04:04 +0000 2018',\n",
      " 'entities': {'hashtags': [],\n",
      "              'media': [{'display_url': 'pic.twitter.com/VNwwrGSemc',\n",
      "                         'expanded_url': 'https://twitter.com/sportsirl/status/1011897941609467906/photo/1',\n",
      "                         'id': 1011897938786770944,\n",
      "                         'id_str': '1011897938786770944',\n",
      "                         'indices': [73, 96],\n",
      "                         'media_url': 'http://pbs.twimg.com/media/Dgr70GZV4AAT-4i.jpg',\n",
      "                         'media_url_https': 'https://pbs.twimg.com/media/Dgr70GZV4AAT-4i.jpg',\n",
      "                         'sizes': {'large': {'h': 899,\n",
      "                                             'resize': 'fit',\n",
      "                                             'w': 1600},\n",
      "                                   'medium': {'h': 674,\n",
      "                                              'resize': 'fit',\n",
      "                                              'w': 1200},\n",
      "                                   'small': {'h': 382,\n",
      "                                             'resize': 'fit',\n",
      "                                             'w': 680},\n",
      "                                   'thumb': {'h': 150,\n",
      "                                             'resize': 'crop',\n",
      "                                             'w': 150}},\n",
      "                         'type': 'photo',\n",
      "                         'url': 'https://t.co/VNwwrGSemc'}],\n",
      "              'symbols': [],\n",
      "              'urls': [{'display_url': 'dlvr.it/QYg1sQ',\n",
      "                        'expanded_url': 'http://dlvr.it/QYg1sQ',\n",
      "                        'indices': [49, 72],\n",
      "                        'url': 'https://t.co/8vQjJyzzgU'}],\n",
      "              'user_mentions': []},\n",
      " 'extended_entities': {'media': [{'display_url': 'pic.twitter.com/VNwwrGSemc',\n",
      "                                  'expanded_url': 'https://twitter.com/sportsirl/status/1011897941609467906/photo/1',\n",
      "                                  'id': 1011897938786770944,\n",
      "                                  'id_str': '1011897938786770944',\n",
      "                                  'indices': [73, 96],\n",
      "                                  'media_url': 'http://pbs.twimg.com/media/Dgr70GZV4AAT-4i.jpg',\n",
      "                                  'media_url_https': 'https://pbs.twimg.com/media/Dgr70GZV4AAT-4i.jpg',\n",
      "                                  'sizes': {'large': {'h': 899,\n",
      "                                                      'resize': 'fit',\n",
      "                                                      'w': 1600},\n",
      "                                            'medium': {'h': 674,\n",
      "                                                       'resize': 'fit',\n",
      "                                                       'w': 1200},\n",
      "                                            'small': {'h': 382,\n",
      "                                                      'resize': 'fit',\n",
      "                                                      'w': 680},\n",
      "                                            'thumb': {'h': 150,\n",
      "                                                      'resize': 'crop',\n",
      "                                                      'w': 150}},\n",
      "                                  'type': 'photo',\n",
      "                                  'url': 'https://t.co/VNwwrGSemc'}]},\n",
      " 'favorite_count': 0,\n",
      " 'favorited': False,\n",
      " 'geo': None,\n",
      " 'id': 1011897941609467906,\n",
      " 'id_str': '1011897941609467906',\n",
      " 'in_reply_to_screen_name': None,\n",
      " 'in_reply_to_status_id': None,\n",
      " 'in_reply_to_status_id_str': None,\n",
      " 'in_reply_to_user_id': None,\n",
      " 'in_reply_to_user_id_str': None,\n",
      " 'is_quote_status': False,\n",
      " 'lang': 'en',\n",
      " 'metadata': {'iso_language_code': 'en', 'result_type': 'recent'},\n",
      " 'place': None,\n",
      " 'possibly_sensitive': False,\n",
      " 'retweet_count': 0,\n",
      " 'retweeted': False,\n",
      " 'source': '<a href=\"https://dlvrit.com/\" rel=\"nofollow\">dlvr.it</a>',\n",
      " 'text': 'The nuclear option moves closer in Newbridge row '\n",
      "         'https://t.co/8vQjJyzzgU https://t.co/VNwwrGSemc',\n",
      " 'truncated': False,\n",
      " 'user': {'contributors_enabled': False,\n",
      "          'created_at': 'Sun Aug 11 03:58:10 +0000 2013',\n",
      "          'default_profile': False,\n",
      "          'default_profile_image': False,\n",
      "          'description': 'The top sports news from Ireland, NI, UK and the '\n",
      "                         'erst of the world #irl, #ireland',\n",
      "          'entities': {'description': {'urls': []},\n",
      "                       'url': {'urls': [{'display_url': 'irishmirror.ie/sport/',\n",
      "                                         'expanded_url': 'http://www.irishmirror.ie/sport/',\n",
      "                                         'indices': [0, 23],\n",
      "                                         'url': 'https://t.co/QqEy6Qi6XO'}]}},\n",
      "          'favourites_count': 925,\n",
      "          'follow_request_sent': None,\n",
      "          'followers_count': 905,\n",
      "          'following': None,\n",
      "          'friends_count': 703,\n",
      "          'geo_enabled': False,\n",
      "          'has_extended_profile': False,\n",
      "          'id': 1661542764,\n",
      "          'id_str': '1661542764',\n",
      "          'is_translation_enabled': False,\n",
      "          'is_translator': False,\n",
      "          'lang': 'en',\n",
      "          'listed_count': 5,\n",
      "          'location': 'Field Level',\n",
      "          'name': 'SportsIrl',\n",
      "          'notifications': None,\n",
      "          'profile_background_color': 'C0DEED',\n",
      "          'profile_background_image_url': 'http://abs.twimg.com/images/themes/theme1/bg.png',\n",
      "          'profile_background_image_url_https': 'https://abs.twimg.com/images/themes/theme1/bg.png',\n",
      "          'profile_background_tile': True,\n",
      "          'profile_banner_url': 'https://pbs.twimg.com/profile_banners/1661542764/1495844623',\n",
      "          'profile_image_url': 'http://pbs.twimg.com/profile_images/868261310630199296/atKJWpvm_normal.jpg',\n",
      "          'profile_image_url_https': 'https://pbs.twimg.com/profile_images/868261310630199296/atKJWpvm_normal.jpg',\n",
      "          'profile_link_color': '0084B4',\n",
      "          'profile_sidebar_border_color': 'FFFFFF',\n",
      "          'profile_sidebar_fill_color': 'DDEEF6',\n",
      "          'profile_text_color': '333333',\n",
      "          'profile_use_background_image': True,\n",
      "          'protected': False,\n",
      "          'screen_name': 'sportsirl',\n",
      "          'statuses_count': 59412,\n",
      "          'time_zone': None,\n",
      "          'translator_type': 'none',\n",
      "          'url': 'https://t.co/QqEy6Qi6XO',\n",
      "          'utc_offset': None,\n",
      "          'verified': False}}\n"
     ]
    }
   ],
   "source": [
    "pprint (tweet)"
   ]
  }
 ],
 "metadata": {
  "kernelspec": {
   "display_name": "Python 3",
   "language": "python",
   "name": "python3"
  },
  "language_info": {
   "codemirror_mode": {
    "name": "ipython",
    "version": 3
   },
   "file_extension": ".py",
   "mimetype": "text/x-python",
   "name": "python",
   "nbconvert_exporter": "python",
   "pygments_lexer": "ipython3",
   "version": "3.6.5"
  }
 },
 "nbformat": 4,
 "nbformat_minor": 2
}
